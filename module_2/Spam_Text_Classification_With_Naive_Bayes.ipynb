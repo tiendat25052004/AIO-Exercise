{
  "nbformat": 4,
  "nbformat_minor": 0,
  "metadata": {
    "colab": {
      "provenance": []
    },
    "kernelspec": {
      "name": "python3",
      "display_name": "Python 3"
    },
    "language_info": {
      "name": "python"
    }
  },
  "cells": [
    {
      "cell_type": "markdown",
      "source": [
        "## **1. Download data**"
      ],
      "metadata": {
        "id": "BdE3415GA72R"
      }
    },
    {
      "cell_type": "code",
      "execution_count": 1,
      "metadata": {
        "colab": {
          "base_uri": "https://localhost:8080/"
        },
        "id": "KHfGc0o2fZMu",
        "outputId": "acf4a603-eb16-43a9-994f-276e39b7965a"
      },
      "outputs": [
        {
          "output_type": "stream",
          "name": "stdout",
          "text": [
            "/usr/local/lib/python3.10/dist-packages/gdown/__main__.py:132: FutureWarning: Option `--id` was deprecated in version 4.3.1 and will be removed in 5.0. You don't need to pass it anymore to use a file ID.\n",
            "  warnings.warn(\n",
            "Downloading...\n",
            "From: https://drive.google.com/uc?id=1N7rk-kfnDFIGMeX0ROVTjKh71gcgx-7R\n",
            "To: /content/2cls_spam_text_cls.csv\n",
            "100% 486k/486k [00:00<00:00, 38.0MB/s]\n"
          ]
        }
      ],
      "source": [
        "# https://drive.google.com/file/d/1N7rk-kfnDFIGMeX0ROVTjKh71gcgx-7R/view?usp=sharing\n",
        "!gdown --id 1N7rk-kfnDFIGMeX0ROVTjKh71gcgx-7R"
      ]
    },
    {
      "cell_type": "markdown",
      "source": [
        "## **2. Import necessary libraries**\n"
      ],
      "metadata": {
        "id": "dVvC6obsBYG4"
      }
    },
    {
      "cell_type": "code",
      "source": [
        "import string\n",
        "import nltk\n",
        "nltk.download('stopwords')\n",
        "nltk.download('punkt')\n",
        "import pandas as pd\n",
        "import numpy as np\n",
        "import matplotlib.pyplot as plt\n",
        "\n",
        "from sklearn.model_selection import train_test_split\n",
        "from sklearn.naive_bayes import GaussianNB\n",
        "from sklearn.metrics import accuracy_score\n",
        "from sklearn.preprocessing import LabelEncoder"
      ],
      "metadata": {
        "colab": {
          "base_uri": "https://localhost:8080/"
        },
        "id": "tU6nV0YHhWWm",
        "outputId": "21321247-ed39-4ca5-b26f-ba572c3b5879"
      },
      "execution_count": 2,
      "outputs": [
        {
          "output_type": "stream",
          "name": "stderr",
          "text": [
            "[nltk_data] Downloading package stopwords to /root/nltk_data...\n",
            "[nltk_data]   Unzipping corpora/stopwords.zip.\n",
            "[nltk_data] Downloading package punkt to /root/nltk_data...\n",
            "[nltk_data]   Unzipping tokenizers/punkt.zip.\n"
          ]
        }
      ]
    },
    {
      "cell_type": "markdown",
      "source": [
        "## **3. Read the dataset**"
      ],
      "metadata": {
        "id": "vX0MeDrnBcY1"
      }
    },
    {
      "cell_type": "code",
      "source": [
        "DATASET_PATH = '/content/2cls_spam_text_cls.csv'\n",
        "df = pd.read_csv(DATASET_PATH)\n",
        "df"
      ],
      "metadata": {
        "colab": {
          "base_uri": "https://localhost:8080/",
          "height": 597
        },
        "id": "KoeUNKOclJK9",
        "outputId": "693e1453-8813-4044-c74e-3cd5766fd543"
      },
      "execution_count": 5,
      "outputs": [
        {
          "output_type": "execute_result",
          "data": {
            "text/plain": [
              "     Category                                            Message\n",
              "0         ham  Go until jurong point, crazy.. Available only ...\n",
              "1         ham                      Ok lar... Joking wif u oni...\n",
              "2        spam  Free entry in 2 a wkly comp to win FA Cup fina...\n",
              "3         ham  U dun say so early hor... U c already then say...\n",
              "4         ham  Nah I don't think he goes to usf, he lives aro...\n",
              "...       ...                                                ...\n",
              "5567     spam  This is the 2nd time we have tried 2 contact u...\n",
              "5568      ham               Will ü b going to esplanade fr home?\n",
              "5569      ham  Pity, * was in mood for that. So...any other s...\n",
              "5570      ham  The guy did some bitching but I acted like i'd...\n",
              "5571      ham                         Rofl. Its true to its name\n",
              "\n",
              "[5572 rows x 2 columns]"
            ],
            "text/html": [
              "\n",
              "  <div id=\"df-deba2709-23be-482a-b021-66c341cd6c87\" class=\"colab-df-container\">\n",
              "    <div>\n",
              "<style scoped>\n",
              "    .dataframe tbody tr th:only-of-type {\n",
              "        vertical-align: middle;\n",
              "    }\n",
              "\n",
              "    .dataframe tbody tr th {\n",
              "        vertical-align: top;\n",
              "    }\n",
              "\n",
              "    .dataframe thead th {\n",
              "        text-align: right;\n",
              "    }\n",
              "</style>\n",
              "<table border=\"1\" class=\"dataframe\">\n",
              "  <thead>\n",
              "    <tr style=\"text-align: right;\">\n",
              "      <th></th>\n",
              "      <th>Category</th>\n",
              "      <th>Message</th>\n",
              "    </tr>\n",
              "  </thead>\n",
              "  <tbody>\n",
              "    <tr>\n",
              "      <th>0</th>\n",
              "      <td>ham</td>\n",
              "      <td>Go until jurong point, crazy.. Available only ...</td>\n",
              "    </tr>\n",
              "    <tr>\n",
              "      <th>1</th>\n",
              "      <td>ham</td>\n",
              "      <td>Ok lar... Joking wif u oni...</td>\n",
              "    </tr>\n",
              "    <tr>\n",
              "      <th>2</th>\n",
              "      <td>spam</td>\n",
              "      <td>Free entry in 2 a wkly comp to win FA Cup fina...</td>\n",
              "    </tr>\n",
              "    <tr>\n",
              "      <th>3</th>\n",
              "      <td>ham</td>\n",
              "      <td>U dun say so early hor... U c already then say...</td>\n",
              "    </tr>\n",
              "    <tr>\n",
              "      <th>4</th>\n",
              "      <td>ham</td>\n",
              "      <td>Nah I don't think he goes to usf, he lives aro...</td>\n",
              "    </tr>\n",
              "    <tr>\n",
              "      <th>...</th>\n",
              "      <td>...</td>\n",
              "      <td>...</td>\n",
              "    </tr>\n",
              "    <tr>\n",
              "      <th>5567</th>\n",
              "      <td>spam</td>\n",
              "      <td>This is the 2nd time we have tried 2 contact u...</td>\n",
              "    </tr>\n",
              "    <tr>\n",
              "      <th>5568</th>\n",
              "      <td>ham</td>\n",
              "      <td>Will ü b going to esplanade fr home?</td>\n",
              "    </tr>\n",
              "    <tr>\n",
              "      <th>5569</th>\n",
              "      <td>ham</td>\n",
              "      <td>Pity, * was in mood for that. So...any other s...</td>\n",
              "    </tr>\n",
              "    <tr>\n",
              "      <th>5570</th>\n",
              "      <td>ham</td>\n",
              "      <td>The guy did some bitching but I acted like i'd...</td>\n",
              "    </tr>\n",
              "    <tr>\n",
              "      <th>5571</th>\n",
              "      <td>ham</td>\n",
              "      <td>Rofl. Its true to its name</td>\n",
              "    </tr>\n",
              "  </tbody>\n",
              "</table>\n",
              "<p>5572 rows × 2 columns</p>\n",
              "</div>\n",
              "    <div class=\"colab-df-buttons\">\n",
              "\n",
              "  <div class=\"colab-df-container\">\n",
              "    <button class=\"colab-df-convert\" onclick=\"convertToInteractive('df-deba2709-23be-482a-b021-66c341cd6c87')\"\n",
              "            title=\"Convert this dataframe to an interactive table.\"\n",
              "            style=\"display:none;\">\n",
              "\n",
              "  <svg xmlns=\"http://www.w3.org/2000/svg\" height=\"24px\" viewBox=\"0 -960 960 960\">\n",
              "    <path d=\"M120-120v-720h720v720H120Zm60-500h600v-160H180v160Zm220 220h160v-160H400v160Zm0 220h160v-160H400v160ZM180-400h160v-160H180v160Zm440 0h160v-160H620v160ZM180-180h160v-160H180v160Zm440 0h160v-160H620v160Z\"/>\n",
              "  </svg>\n",
              "    </button>\n",
              "\n",
              "  <style>\n",
              "    .colab-df-container {\n",
              "      display:flex;\n",
              "      gap: 12px;\n",
              "    }\n",
              "\n",
              "    .colab-df-convert {\n",
              "      background-color: #E8F0FE;\n",
              "      border: none;\n",
              "      border-radius: 50%;\n",
              "      cursor: pointer;\n",
              "      display: none;\n",
              "      fill: #1967D2;\n",
              "      height: 32px;\n",
              "      padding: 0 0 0 0;\n",
              "      width: 32px;\n",
              "    }\n",
              "\n",
              "    .colab-df-convert:hover {\n",
              "      background-color: #E2EBFA;\n",
              "      box-shadow: 0px 1px 2px rgba(60, 64, 67, 0.3), 0px 1px 3px 1px rgba(60, 64, 67, 0.15);\n",
              "      fill: #174EA6;\n",
              "    }\n",
              "\n",
              "    .colab-df-buttons div {\n",
              "      margin-bottom: 4px;\n",
              "    }\n",
              "\n",
              "    [theme=dark] .colab-df-convert {\n",
              "      background-color: #3B4455;\n",
              "      fill: #D2E3FC;\n",
              "    }\n",
              "\n",
              "    [theme=dark] .colab-df-convert:hover {\n",
              "      background-color: #434B5C;\n",
              "      box-shadow: 0px 1px 3px 1px rgba(0, 0, 0, 0.15);\n",
              "      filter: drop-shadow(0px 1px 2px rgba(0, 0, 0, 0.3));\n",
              "      fill: #FFFFFF;\n",
              "    }\n",
              "  </style>\n",
              "\n",
              "    <script>\n",
              "      const buttonEl =\n",
              "        document.querySelector('#df-deba2709-23be-482a-b021-66c341cd6c87 button.colab-df-convert');\n",
              "      buttonEl.style.display =\n",
              "        google.colab.kernel.accessAllowed ? 'block' : 'none';\n",
              "\n",
              "      async function convertToInteractive(key) {\n",
              "        const element = document.querySelector('#df-deba2709-23be-482a-b021-66c341cd6c87');\n",
              "        const dataTable =\n",
              "          await google.colab.kernel.invokeFunction('convertToInteractive',\n",
              "                                                    [key], {});\n",
              "        if (!dataTable) return;\n",
              "\n",
              "        const docLinkHtml = 'Like what you see? Visit the ' +\n",
              "          '<a target=\"_blank\" href=https://colab.research.google.com/notebooks/data_table.ipynb>data table notebook</a>'\n",
              "          + ' to learn more about interactive tables.';\n",
              "        element.innerHTML = '';\n",
              "        dataTable['output_type'] = 'display_data';\n",
              "        await google.colab.output.renderOutput(dataTable, element);\n",
              "        const docLink = document.createElement('div');\n",
              "        docLink.innerHTML = docLinkHtml;\n",
              "        element.appendChild(docLink);\n",
              "      }\n",
              "    </script>\n",
              "  </div>\n",
              "\n",
              "\n",
              "<div id=\"df-e134c6aa-7d4a-43af-be7d-fc778cc453b1\">\n",
              "  <button class=\"colab-df-quickchart\" onclick=\"quickchart('df-e134c6aa-7d4a-43af-be7d-fc778cc453b1')\"\n",
              "            title=\"Suggest charts\"\n",
              "            style=\"display:none;\">\n",
              "\n",
              "<svg xmlns=\"http://www.w3.org/2000/svg\" height=\"24px\"viewBox=\"0 0 24 24\"\n",
              "     width=\"24px\">\n",
              "    <g>\n",
              "        <path d=\"M19 3H5c-1.1 0-2 .9-2 2v14c0 1.1.9 2 2 2h14c1.1 0 2-.9 2-2V5c0-1.1-.9-2-2-2zM9 17H7v-7h2v7zm4 0h-2V7h2v10zm4 0h-2v-4h2v4z\"/>\n",
              "    </g>\n",
              "</svg>\n",
              "  </button>\n",
              "\n",
              "<style>\n",
              "  .colab-df-quickchart {\n",
              "      --bg-color: #E8F0FE;\n",
              "      --fill-color: #1967D2;\n",
              "      --hover-bg-color: #E2EBFA;\n",
              "      --hover-fill-color: #174EA6;\n",
              "      --disabled-fill-color: #AAA;\n",
              "      --disabled-bg-color: #DDD;\n",
              "  }\n",
              "\n",
              "  [theme=dark] .colab-df-quickchart {\n",
              "      --bg-color: #3B4455;\n",
              "      --fill-color: #D2E3FC;\n",
              "      --hover-bg-color: #434B5C;\n",
              "      --hover-fill-color: #FFFFFF;\n",
              "      --disabled-bg-color: #3B4455;\n",
              "      --disabled-fill-color: #666;\n",
              "  }\n",
              "\n",
              "  .colab-df-quickchart {\n",
              "    background-color: var(--bg-color);\n",
              "    border: none;\n",
              "    border-radius: 50%;\n",
              "    cursor: pointer;\n",
              "    display: none;\n",
              "    fill: var(--fill-color);\n",
              "    height: 32px;\n",
              "    padding: 0;\n",
              "    width: 32px;\n",
              "  }\n",
              "\n",
              "  .colab-df-quickchart:hover {\n",
              "    background-color: var(--hover-bg-color);\n",
              "    box-shadow: 0 1px 2px rgba(60, 64, 67, 0.3), 0 1px 3px 1px rgba(60, 64, 67, 0.15);\n",
              "    fill: var(--button-hover-fill-color);\n",
              "  }\n",
              "\n",
              "  .colab-df-quickchart-complete:disabled,\n",
              "  .colab-df-quickchart-complete:disabled:hover {\n",
              "    background-color: var(--disabled-bg-color);\n",
              "    fill: var(--disabled-fill-color);\n",
              "    box-shadow: none;\n",
              "  }\n",
              "\n",
              "  .colab-df-spinner {\n",
              "    border: 2px solid var(--fill-color);\n",
              "    border-color: transparent;\n",
              "    border-bottom-color: var(--fill-color);\n",
              "    animation:\n",
              "      spin 1s steps(1) infinite;\n",
              "  }\n",
              "\n",
              "  @keyframes spin {\n",
              "    0% {\n",
              "      border-color: transparent;\n",
              "      border-bottom-color: var(--fill-color);\n",
              "      border-left-color: var(--fill-color);\n",
              "    }\n",
              "    20% {\n",
              "      border-color: transparent;\n",
              "      border-left-color: var(--fill-color);\n",
              "      border-top-color: var(--fill-color);\n",
              "    }\n",
              "    30% {\n",
              "      border-color: transparent;\n",
              "      border-left-color: var(--fill-color);\n",
              "      border-top-color: var(--fill-color);\n",
              "      border-right-color: var(--fill-color);\n",
              "    }\n",
              "    40% {\n",
              "      border-color: transparent;\n",
              "      border-right-color: var(--fill-color);\n",
              "      border-top-color: var(--fill-color);\n",
              "    }\n",
              "    60% {\n",
              "      border-color: transparent;\n",
              "      border-right-color: var(--fill-color);\n",
              "    }\n",
              "    80% {\n",
              "      border-color: transparent;\n",
              "      border-right-color: var(--fill-color);\n",
              "      border-bottom-color: var(--fill-color);\n",
              "    }\n",
              "    90% {\n",
              "      border-color: transparent;\n",
              "      border-bottom-color: var(--fill-color);\n",
              "    }\n",
              "  }\n",
              "</style>\n",
              "\n",
              "  <script>\n",
              "    async function quickchart(key) {\n",
              "      const quickchartButtonEl =\n",
              "        document.querySelector('#' + key + ' button');\n",
              "      quickchartButtonEl.disabled = true;  // To prevent multiple clicks.\n",
              "      quickchartButtonEl.classList.add('colab-df-spinner');\n",
              "      try {\n",
              "        const charts = await google.colab.kernel.invokeFunction(\n",
              "            'suggestCharts', [key], {});\n",
              "      } catch (error) {\n",
              "        console.error('Error during call to suggestCharts:', error);\n",
              "      }\n",
              "      quickchartButtonEl.classList.remove('colab-df-spinner');\n",
              "      quickchartButtonEl.classList.add('colab-df-quickchart-complete');\n",
              "    }\n",
              "    (() => {\n",
              "      let quickchartButtonEl =\n",
              "        document.querySelector('#df-e134c6aa-7d4a-43af-be7d-fc778cc453b1 button');\n",
              "      quickchartButtonEl.style.display =\n",
              "        google.colab.kernel.accessAllowed ? 'block' : 'none';\n",
              "    })();\n",
              "  </script>\n",
              "</div>\n",
              "\n",
              "  <div id=\"id_c8e0344d-8db8-492c-848f-eb7b737bb60f\">\n",
              "    <style>\n",
              "      .colab-df-generate {\n",
              "        background-color: #E8F0FE;\n",
              "        border: none;\n",
              "        border-radius: 50%;\n",
              "        cursor: pointer;\n",
              "        display: none;\n",
              "        fill: #1967D2;\n",
              "        height: 32px;\n",
              "        padding: 0 0 0 0;\n",
              "        width: 32px;\n",
              "      }\n",
              "\n",
              "      .colab-df-generate:hover {\n",
              "        background-color: #E2EBFA;\n",
              "        box-shadow: 0px 1px 2px rgba(60, 64, 67, 0.3), 0px 1px 3px 1px rgba(60, 64, 67, 0.15);\n",
              "        fill: #174EA6;\n",
              "      }\n",
              "\n",
              "      [theme=dark] .colab-df-generate {\n",
              "        background-color: #3B4455;\n",
              "        fill: #D2E3FC;\n",
              "      }\n",
              "\n",
              "      [theme=dark] .colab-df-generate:hover {\n",
              "        background-color: #434B5C;\n",
              "        box-shadow: 0px 1px 3px 1px rgba(0, 0, 0, 0.15);\n",
              "        filter: drop-shadow(0px 1px 2px rgba(0, 0, 0, 0.3));\n",
              "        fill: #FFFFFF;\n",
              "      }\n",
              "    </style>\n",
              "    <button class=\"colab-df-generate\" onclick=\"generateWithVariable('df')\"\n",
              "            title=\"Generate code using this dataframe.\"\n",
              "            style=\"display:none;\">\n",
              "\n",
              "  <svg xmlns=\"http://www.w3.org/2000/svg\" height=\"24px\"viewBox=\"0 0 24 24\"\n",
              "       width=\"24px\">\n",
              "    <path d=\"M7,19H8.4L18.45,9,17,7.55,7,17.6ZM5,21V16.75L18.45,3.32a2,2,0,0,1,2.83,0l1.4,1.43a1.91,1.91,0,0,1,.58,1.4,1.91,1.91,0,0,1-.58,1.4L9.25,21ZM18.45,9,17,7.55Zm-12,3A5.31,5.31,0,0,0,4.9,8.1,5.31,5.31,0,0,0,1,6.5,5.31,5.31,0,0,0,4.9,4.9,5.31,5.31,0,0,0,6.5,1,5.31,5.31,0,0,0,8.1,4.9,5.31,5.31,0,0,0,12,6.5,5.46,5.46,0,0,0,6.5,12Z\"/>\n",
              "  </svg>\n",
              "    </button>\n",
              "    <script>\n",
              "      (() => {\n",
              "      const buttonEl =\n",
              "        document.querySelector('#id_c8e0344d-8db8-492c-848f-eb7b737bb60f button.colab-df-generate');\n",
              "      buttonEl.style.display =\n",
              "        google.colab.kernel.accessAllowed ? 'block' : 'none';\n",
              "\n",
              "      buttonEl.onclick = () => {\n",
              "        google.colab.notebook.generateWithVariable('df');\n",
              "      }\n",
              "      })();\n",
              "    </script>\n",
              "  </div>\n",
              "\n",
              "    </div>\n",
              "  </div>\n"
            ],
            "application/vnd.google.colaboratory.intrinsic+json": {
              "type": "dataframe",
              "variable_name": "df",
              "summary": "{\n  \"name\": \"df\",\n  \"rows\": 5572,\n  \"fields\": [\n    {\n      \"column\": \"Category\",\n      \"properties\": {\n        \"dtype\": \"category\",\n        \"num_unique_values\": 2,\n        \"samples\": [\n          \"spam\",\n          \"ham\"\n        ],\n        \"semantic_type\": \"\",\n        \"description\": \"\"\n      }\n    },\n    {\n      \"column\": \"Message\",\n      \"properties\": {\n        \"dtype\": \"string\",\n        \"num_unique_values\": 5157,\n        \"samples\": [\n          \"Also sir, i sent you an email about how to log into the usc payment portal. I.ll send you another message that should explain how things are back home. Have a great weekend.\",\n          \"Are you free now?can i call now?\"\n        ],\n        \"semantic_type\": \"\",\n        \"description\": \"\"\n      }\n    }\n  ]\n}"
            }
          },
          "metadata": {},
          "execution_count": 5
        },
        {
          "output_type": "display_data",
          "data": {
            "text/plain": [
              "<google.colab._quickchart_helpers.SectionTitle at 0x78390814a980>"
            ],
            "text/html": [
              "<h4 class=\"colab-quickchart-section-title\">Categorical distributions</h4>\n",
              "<style>\n",
              "  .colab-quickchart-section-title {\n",
              "      clear: both;\n",
              "  }\n",
              "</style>"
            ]
          },
          "metadata": {}
        },
        {
          "output_type": "display_data",
          "data": {
            "text/plain": [
              "from matplotlib import pyplot as plt\n",
              "import seaborn as sns\n",
              "df.groupby('Category').size().plot(kind='barh', color=sns.palettes.mpl_palette('Dark2'))\n",
              "plt.gca().spines[['top', 'right',]].set_visible(False)"
            ],
            "text/html": [
              "      <div class=\"colab-quickchart-chart-with-code\" id=\"chart-1daa8d18-725c-4df5-a1e8-3266b4c33446\">\n",
              "        <img style=\"width: 180px;\" src=\"data:image/png;base64,iVBORw0KGgoAAAANSUhEUgAAAj8AAAGZCAYAAABmAVBZAAAAOXRFWHRTb2Z0d2FyZQBNYXRwbG90\n",
              "bGliIHZlcnNpb24zLjcuMSwgaHR0cHM6Ly9tYXRwbG90bGliLm9yZy/bCgiHAAAACXBIWXMAAA9h\n",
              "AAAPYQGoP6dpAAAWV0lEQVR4nO3de4xUhfnw8WdcbrUg/EQFFGELYq0sLAhL8VLRICq1VWtt3XrB\n",
              "8EdtJAataUuIVNOmiq2W1Fgba2PAVoP30jRqjbFYbI0CIiKsNtiyAlXUt10WbyAL5/3jTTc/XhFZ\n",
              "nNkBns8nmWTnnJ2Z58zhZL85c5YtFUVRBABAEgdUewAAgM4kfgCAVMQPAJCK+AEAUhE/AEAq4gcA\n",
              "SEX8AACpiB8AIBXxAwCkkjZ+brnllmqPAABUQdr4ee2116o9AgBQBWnjBwDISfwAAKmIHwAgFfED\n",
              "AKQifgCAVMQPAJCK+AEAUhE/AEAq4gcASEX8AACpiB8AIBXxAwCkIn4AgFTEDwCQivgBAFIRPwBA\n",
              "KuIHAEhF/AAAqYgfACAV8QMApCJ+AIBUxA8AkIr4AQBSET8AQCriBwBIRfwAAKmIHwAgFfEDAKQi\n",
              "fgCAVMQPAJCK+AEAUhE/AEAq4gcASEX8AACpiB8AIBXxAwCkIn4AgFTEDwCQivgBAFIRPwBAKuIH\n",
              "AEhF/AAAqYgfACAV8QMApFIqiqKo9hDVMHV4KWY2aL9dOXretmqPAABl56c/AJCK+AEAUhE/AEAq\n",
              "4gcASEX8AACpiB8AIBXxAwCkIn4AgFTEDwCQivgBAFIRPwBAKuIHAEhF/AAAqYgfACAV8QMApCJ+\n",
              "AIBUxA8AkIr4AQBSET8AQCriBwBIRfwAAKmIHwAgFfEDAKQifgCAVMQPAJCK+AEAUhE/AEAq4gcA\n",
              "SEX8AACpiB8AIBXxAwCkIn4AgFTEDwCQivgBAFIRPwBAKuIHAEhF/AAAqYgfACAV8QMApCJ+AIBU\n",
              "xA8AkIr4AQBSET8AQCoVi58PPvggLrjggjj22GOjvr4+Tj/99Hjqqaeirq4upkyZEnV1dTFmzJhY\n",
              "vnx5RERs2LAhTj311BgzZkwMHz48rrjiiti+fXtERMybNy9OO+20+Na3vhXHHntsnHDCCdHU1BRf\n",
              "+9rX4gtf+EKcfvrp8e6771ZqUwCA/UjF4udPf/pTbNy4MZqamuLFF1+Me++9NyIiVq1aFZdeemms\n",
              "XLkyZsyYEY2NjVEURfTp0yf++Mc/xvPPPx8rVqyI5ubmuP/++9ufb8mSJfHTn/40mpqaYujQofHV\n",
              "r341br/99nj55ZejW7ducdddd33sLFu2bIlNmzbtcNu2vVJbDgDszSoWP/X19fHyyy/HtGnT4r77\n",
              "7ouuXbtGRERtbW1MnDgxIiK++c1vxoYNG2LdunWxffv2mDFjRtTX18fo0aNj6dKl7WeFIiKOP/74\n",
              "GDRoUEREjB07NhoaGqJfv34REdHQ0BCrV6/+2Flmz54dvXv33uG24v9UaMMBgL1axeJnyJAh0dTU\n",
              "FGeeeWb87W9/i7q6umhpafnI95VKpSiVSjFnzpx466234rnnnosVK1bEhRdeGJs3b27/vh49erR/\n",
              "XVNT85H7bW1tHzvLzJkzo7W1dYfbyEPKtKEAwD6lYvGzfv36KJVKcfbZZ8fNN98cRVHEunXrorm5\n",
              "ORYuXBgREQ8++GD069cvBg4cGC0tLdG/f//o0aNHbNiwIR544IGyzdK9e/c46KCDdrjVuNQbAFLq\n",
              "Uqknfumll2LmzJlRFEW0tbXFJZdcEiNHjozhw4fHvHnzYvr06dGtW7eYP39+lEqluPLKK+P888+P\n",
              "4cOHx+GHHx6nnXZapUYDABIrFUVRdNaLPfXUU3HVVVftcC1PtUwdXoqZDU7/7MrR87ZVewQAKDs/\n",
              "/QGAVDo1fk455ZS94qwPAJCXMz8AQCriBwBIRfwAAKmIHwAgFfEDAKQifgCAVMQPAJCK+AEAUhE/\n",
              "AEAq4gcASEX8AACpiB8AIBXxAwCkIn4AgFTEDwCQivgBAFIRPwBAKuIHAEhF/AAAqYgfACAV8QMA\n",
              "pCJ+AIBUxA8AkIr4AQBSET8AQCriBwBIRfwAAKmIHwAgFfEDAKQifgCAVMQPAJCK+AEAUhE/AEAq\n",
              "4gcASEX8AACpiB8AIBXxAwCkIn4AgFTEDwCQSpdqD1At/3PGd+PoOXOqPQYA0Mmc+QEAUhE/AEAq\n",
              "4gcASEX8AACpiB8AIBXxAwCkIn4AgFTEDwCQivgBAFIRPwBAKuIHAEhF/AAAqYgfACAV8QMApCJ+\n",
              "AIBUxA8AkIr4AQBSET8AQCriBwBIRfwAAKmIHwAgFfEDAKTS4fj59a9/He+//34lZgEAqLgOx8+i\n",
              "RYtiyJAh8d3vfjdeffXVSswEAFAxHY6fe+65J1588cXo27dvTJw4MSZPnhyPPvpoJWYDACi7Pbrm\n",
              "p1+/fjFr1qy46667YtWqVXHxxRfHMcccE08++WS55wMAKKsuHX3A5s2b4+67747bbrstDjzwwLjp\n",
              "ppvi/PPPjxdeeCHOP//8aG5ursCYAADl0eH4qa2tjUmTJsUdd9wRDQ0N7cvHjh0bkyZNKutwAADl\n",
              "1qH42bZtW/zsZz+LKVOm7HT9b37zm7IMBQBQKR265qempiZ+8YtfVGgUAIDK6/AFz8cdd1z89a9/\n",
              "rcQsAAAV1+Frfp599tmYN29eDBkyJHr27Nm+fNmyZWUdDACgEjocP7fddlsl5gAA6BQdjp8JEyZE\n",
              "RMTrr78eERGHH354eScCAKigDl/z8/LLL8fw4cPbbyNGjIhXXnmlErMBAJRdh+Nn2rRpcc0110RL\n",
              "S0u0tLTENddcE5dffnklZgMAKLsOx09LS0tceOGF7fcbGxujpaWlrEMBAFRKh+OnpqYmmpqa2u83\n",
              "NTVFTU1NWYcCAKiUDl/wfMMNN8TJJ58cI0eOjIiIl156Ke65556yDwYAUAkdjp8zzjgjmpqaYvHi\n",
              "xRERMX78+DjkkEPKPhgAQCV0OH4iIg477LD4yle+Uu5ZAAAqrsPX/BxwwAFRU1Ozw+3ggw+Os846\n",
              "K5qbmyswIgBA+XT4zM+Pf/zjaGtri29/+9sREXHnnXfGli1bol+/fvGd73wnHn/88bIPCQBQLh2O\n",
              "nwULFsTSpUvb71977bUxduzYWLp0adxxxx1lHQ4AoNw6/LHXO++8E2+//Xb7/bfffjveeeediIjo\n",
              "2rVr+SYDAKiADp/5ufrqq6O+vj4mT54cERGPP/54zJo1K95999048cQTyz4gAEA5lYqiKDr6oJUr\n",
              "V8bChQsjIuLUU0+Nurq6sg9WaVdffXXMmTOn2mMAAJ1sj37VvW/fvjFixIg45ZRToq2tLT788MPo\n",
              "1q1buWcDACi7Dl/z8+CDD8b48eNj6tSpERGxatWqOPfcc8s9FwBARXQ4fmbPnh3Lli2LPn36RERE\n",
              "fX19vPbaa+WeCwCgIvboD5v27dt3h2U+8gIA9hUdjp9evXrFm2++GaVSKSIinnzyyTj44IPLPhgA\n",
              "QCV0+ILnG2+8MSZPnhz//Oc/46STToo1a9bEI488UonZAADKrsPx09DQEAsXLoxnnnkmiqKIE044\n",
              "of36HwCAvV2HP/aaNm1a9O7dOyZPnhxf/vKXo0+fPjFt2rRKzAYAUHYdjp9nn332I8ueeeaZsgwD\n",
              "AFBpu/2x13333Rf33ntvrFmzJs4777z25a2trdGzZ8+KDAcAUG67HT/HHHNMnHPOObFs2bI455xz\n",
              "2pcfdNBBMXHixIoMBwBQbrsdP/X19VFfXx9nnXVWHHrooZWcCQCgYjr8216HHnpo3H///bF8+fLY\n",
              "vHlz+3J/JBQA2Bd0+ILn6dOnx+9+97uYN29elEqlePDBB6O1tbUSswEAlF2H42fhwoXxhz/8IQ49\n",
              "9ND4+c9/HosXL47169dXYjYAgLLrcPz06NEjDjjggCiVSrF169bo379/vP7665WYDQCg7Dp8zU+v\n",
              "Xr3i/fffj5NOOikuvvji6N+/fxx44IGVmA0AoOx2+8zPpk2borm5OebPnx9dunSJm266KUaMGBHr\n",
              "16+Phx56qJIzAgCUzW7Hzw9+8IN4/vnno1+/ftGtW7f4zGc+E7NmzYqLLroorr/++krOCABQNrsd\n",
              "P4sXL46vf/3rH1l+3nnnxaJFi8o6FABApex2/LS1tX38kxzQ4eumAQCqYrerZevWrbFp06aPLG9t\n",
              "bY2tW7eWdSgAgErZ7fhpbGyMSy65JFpaWtqXtbS0xNSpU6OxsbEiwwEAlNtux8+sWbOiT58+ceSR\n",
              "R8bo0aNj9OjRceSRR0avXr3ihz/8YSVnBAAom93+f35qamrirrvuimuvvTaWLVsWERHHHXdcDB06\n",
              "tGLDAQCUW4f/k8OhQ4cKHgBgn+XXtACAVMQPAJCK+AEAUhE/AEAq4gcASEX8AACpiB8AIBXxAwCk\n",
              "In4AgFTEDwCQivgBAFIRPwBAKuIHAEhF/AAAqYgfACAV8QMApCJ+AIBUxA8AkIr4AQBSKRVFUVR7\n",
              "iGroeUZD9GmcWO0xAGC/sn7qjdUe4RM58wMApCJ+AIBUxA8AkIr4AQBSET8AQCriBwBIRfwAAKmI\n",
              "HwAgFfEDAKQifgCAVMQPAJCK+AEAUhE/AEAq4gcASEX8AACpiB8AIBXxAwCkIn4AgFTEDwCQivgB\n",
              "AFIRPwBAKuIHAEhF/AAAqYgfACAV8QMApCJ+AIBUxA8AkIr4AQBSET8AQCriBwBIRfwAAKmIHwAg\n",
              "FfEDAKQifgCAVMQPAJCK+AEAUhE/AEAq4gcASEX8AACpiB8AIBXxAwCk0unxUyqVYuPGjZ39sgAA\n",
              "EeHMDwCQTFXi51e/+lWMGzcuPve5z8XcuXPbl3/ve9+LhoaGGDVqVJx88snx97//vX1dqVSK66+/\n",
              "Pr74xS9GbW1tLFiwIGbPnh1jx46NYcOGxVNPPVWFLQEA9jVViZ/u3bvH4sWL47HHHovp06dHW1tb\n",
              "RETMmDEjlixZEsuXL49p06bFlVdeucPjevbsGc8991zceeedcfHFF8eAAQNi6dKlccMNN8T3v//9\n",
              "j329LVu2xKZNm3a4xbaiotsIAOydulTjRS+66KKIiDjmmGOiS5cusWHDhhg4cGA88cQTceutt8Y7\n",
              "77wT27dvj//85z87PO6CCy6IiIixY8fGe++9F42NjRERMW7cuFi9evXHvt7s2bPjRz/60Q7Lug45\n",
              "vJybBADsI6py5qdHjx7tX9fU1ERbW1usXbs2rrjiirj77rtj5cqVce+998bmzZt3+riampqP3P/v\n",
              "2aOdmTlzZrS2tu5w6/a5AeXeLABgH1CVMz8709raGl27do0BAwZEURTxy1/+smzP3b179+jevfuO\n",
              "C2tKZXt+AGDfsdf8tteIESOisbExhg8fHg0NDTFo0KBqjwQA7IdKRVGkvPK35xkN0adxYrXHAID9\n",
              "yvqpN1Z7hE+015z5AQDoDOIHAEhF/AAAqYgfACAV8QMApCJ+AIBUxA8AkIr4AQBSET8AQCriBwBI\n",
              "RfwAAKmIHwAgFfEDAKQifgCAVMQPAJCK+AEAUhE/AEAq4gcASEX8AACpiB8AIBXxAwCkIn4AgFTE\n",
              "DwCQivgBAFIRPwBAKuIHAEhF/AAAqYgfACAV8QMApCJ+AIBUxA8AkIr4AQBSET8AQCriBwBIRfwA\n",
              "AKmIHwAgFfEDAKQifgCAVMQPAJCK+AEAUhE/AEAqXao9QLVcNvxLMWfqjdUeAwDoZM78AACpiB8A\n",
              "IBXxAwCkIn4AgFTEDwCQivgBAFIRPwBAKuIHAEhF/AAAqYgfACAV8QMApCJ+AIBUxA8AkIr4AQBS\n",
              "ET8AQCriBwBIRfwAAKmIHwAgFfEDAKQifgCAVMQPAJCK+AEAUhE/AEAq4gcASEX8AACpiB8AIBXx\n",
              "AwCkIn4AgFTEDwCQivgBAFIRPwBAKuIHAEhF/AAAqYgfACAV8QMApCJ+AIBUxA8AkIr4AQBSET8A\n",
              "QCriBwBIRfwAAKmIHwAgFfEDAKQifgCAVMQPAJBKl2oPUA1btmyJxx57LLZt2xY1NTXVHietbdu2\n",
              "xeLFi2PcuHH2Q5XYB3sH+2HvYD/sHT5pPwwePDiuvPLKT/UapaIoik/1DPugTZs2Re/evaO1tTUO\n",
              "Ouigao+Tlv1QffbB3sF+2DvYD3uHztgPPvYCAFIRPwBAKuIHAEglZfx07949rrvuuujevXu1R0nN\n",
              "fqg++2DvYD/sHeyHvUNn7IeUFzwDAHmlPPMDAOQlfgCAVMQPAJBKuvhZvXp1nHDCCXH00UdHQ0ND\n",
              "rFq1qtoj7TemT58etbW1USqVYvny5e3Ld/We7+k6dm7z5s1x7rnnxtFHHx319fUxadKkePXVVyMi\n",
              "4q233oozzzwzhg0bFnV1dbFo0aL2x+3pOj7e6aefHiNHjoxRo0bFl770pXjhhRciwvFQLXPnzo1S\n",
              "qRQLFiyICMdDZ6utrY3Pf/7zMWrUqBg1alTcd999EVHF46FI5tRTTy3mzp1bFEVRPPDAA8XYsWOr\n",
              "O9B+5C9/+Uuxbt26YvDgwcULL7zQvnxX7/mermPnPvjgg+KRRx4ptm/fXhRFUdx6663FhAkTiqIo\n",
              "iqlTpxbXXXddURRFsXjx4uKII44oPvzww0+1jo/X0tLS/vXDDz9cjBw5sigKx0M1rFmzpjj++OOL\n",
              "8ePHF7///e+LonA8dLb//+fCf1XreEgVP2+++WbRq1evYuvWrUVRFMX27duLfv36FatXr67yZPuX\n",
              "//2PfFfv+Z6uY/ctWbKkGDx4cFEURfHZz362eOONN9rXNTQ0FE888cSnWsfumTt3blFfX+94qIJt\n",
              "27YVEydOLJYuXVpMmDChPX4cD51rZ/FTzeMh1R82XbduXQwYMCC6dPl/m10qlWLQoEGxdu3aOOqo\n",
              "o6o83f5pV+95796992idfbX7brnlljjnnHPi3//+d2zdujX69+/fvq62tjbWrl27x+v4ZFOmTImF\n",
              "CxdGRMSjjz7qeKiCOXPmxIknnhhjxoxpX+Z4qI4pU6ZEURQxbty4uPHGG6t6PKS75geyuOGGG+LV\n",
              "V1+N2bNnV3uUtH7729/GunXr4ic/+UnMmDGj2uOks3LlynjooYdi1qxZ1R4lvUWLFsWKFSti2bJl\n",
              "ccghh8Sll15a1XlSxc+RRx4Zb7zxRrS1tUVERFEUsXbt2hg0aFCVJ9t/7eo939N1fLKbb745Hn74\n",
              "4XjsscfiwAMPjL59+0aXLl1iw4YN7d/T3NwcgwYN2uN17L5LL700Fi5cGAMHDnQ8dKKnn346mpub\n",
              "Y9iwYVFbWxvPPvtsXHbZZXH//fc7HjrZf9+jrl27xlVXXRVPP/10VX8+pIqfww47LI477ri4++67\n",
              "IyLioYceioEDBzptXEG7es/3dB27NmfOnJg/f3488cQT0adPn/bl3/jGN+L222+PiIglS5bEv/71\n",
              "r5gwYcKnWsfObdy4MV5//fX2+wsWLIi+ffs6HjrZ5ZdfHm+88UY0NzdHc3NzjB8/Pu644464/PLL\n",
              "HQ+d6L333ouNGze2358/f36MHj26usfDp7h+aZ/0yiuvFOPHjy+GDRtWjBkzplixYkW1R9pvXHbZ\n",
              "ZcURRxxR1NTUFIcddlgxdOjQoih2/Z7v6Tp2bt26dUVEFEOGDCnq6+uL+vr6Yty4cUVRFMWGDRuK\n",
              "SZMmFUcddVRx7LHHFn/+85/bH7en69i55ubmoqGhoairqytGjhxZTJw4sf1iT8dD9fzvC54dD53n\n",
              "H//4RzFq1KhixIgRRV1dXXH22WcXa9asKYqieseDv+0FAKSS6mMvAADxAwCkIn4AgFTEDwCQivgB\n",
              "AFIRPwBAKuIHAEhF/AAAqYgfACAV8QMApCJ+AIBU/i8F9fRUo1l4VAAAAABJRU5ErkJggg==\n",
              "\">\n",
              "      </div>\n",
              "      <script type=\"text/javascript\">\n",
              "        (() => {\n",
              "          const chartElement = document.getElementById(\"chart-1daa8d18-725c-4df5-a1e8-3266b4c33446\");\n",
              "          async function getCodeForChartHandler(event) {\n",
              "            const chartCodeResponse =  await google.colab.kernel.invokeFunction(\n",
              "                'getCodeForChart', [\"chart-1daa8d18-725c-4df5-a1e8-3266b4c33446\"], {});\n",
              "            const responseJson = chartCodeResponse.data['application/json'];\n",
              "            await google.colab.notebook.addCell(responseJson.code, 'code');\n",
              "          }\n",
              "          chartElement.onclick = getCodeForChartHandler;\n",
              "        })();\n",
              "      </script>\n",
              "      <style>\n",
              "        .colab-quickchart-chart-with-code  {\n",
              "            display: block;\n",
              "            float: left;\n",
              "            border: 1px solid transparent;\n",
              "        }\n",
              "\n",
              "        .colab-quickchart-chart-with-code:hover {\n",
              "            cursor: pointer;\n",
              "            border: 1px solid #aaa;\n",
              "        }\n",
              "      </style>"
            ]
          },
          "metadata": {}
        }
      ]
    },
    {
      "cell_type": "code",
      "source": [
        "messages = df['Message'].values.tolist()\n",
        "labels = df['Category'].values.tolist()"
      ],
      "metadata": {
        "id": "uQblTvxTnIPj"
      },
      "execution_count": 6,
      "outputs": []
    },
    {
      "cell_type": "markdown",
      "source": [
        "## **4. Prepare the dataset**"
      ],
      "metadata": {
        "id": "WadqE8dtBf9Q"
      }
    },
    {
      "cell_type": "markdown",
      "source": [
        "### **4.1. label data processing**"
      ],
      "metadata": {
        "id": "d2FJWXIABiwa"
      }
    },
    {
      "cell_type": "code",
      "source": [
        "le = LabelEncoder()\n",
        "y = le.fit_transform(labels)\n",
        "print(f'Classes: {le.classes_}')\n",
        "print(f'Encoded labels: {y}')"
      ],
      "metadata": {
        "colab": {
          "base_uri": "https://localhost:8080/"
        },
        "id": "xzBrlBKslOz5",
        "outputId": "720894ed-c8ff-4fa3-aff4-a2df76212d85"
      },
      "execution_count": 10,
      "outputs": [
        {
          "output_type": "stream",
          "name": "stdout",
          "text": [
            "Classes: ['ham' 'spam']\n",
            "Encoded labels: [0 0 1 ... 0 0 0]\n"
          ]
        }
      ]
    },
    {
      "cell_type": "markdown",
      "source": [
        "### **4.2. feature data processing**"
      ],
      "metadata": {
        "id": "X7aTeSvzBogY"
      }
    },
    {
      "cell_type": "code",
      "source": [
        "def lowercase(text):\n",
        "    return text.lower()\n",
        "\n",
        "def punctuation_removal(text):\n",
        "    translator = str.maketrans('', '', string.punctuation)\n",
        "\n",
        "    return text.translate(translator)\n",
        "\n",
        "def tokenize(text):\n",
        "    return nltk.word_tokenize(text)\n",
        "\n",
        "def remove_stopwords(tokens):\n",
        "    stop_words = nltk.corpus.stopwords.words('english')\n",
        "\n",
        "    return [token for token in tokens if token not in stop_words]\n",
        "\n",
        "def stemming(tokens):\n",
        "    stemmer = nltk.PorterStemmer()\n",
        "\n",
        "    return [stemmer.stem(token) for token in tokens]\n",
        "\n",
        "def preprocess_text(text):\n",
        "    text = lowercase(text)\n",
        "    text = punctuation_removal(text)\n",
        "    tokens = tokenize(text)\n",
        "    tokens = remove_stopwords(tokens)\n",
        "    tokens = stemming(tokens)\n",
        "\n",
        "    return tokens"
      ],
      "metadata": {
        "id": "Q_m5jsZBlh5P"
      },
      "execution_count": 11,
      "outputs": []
    },
    {
      "cell_type": "code",
      "source": [
        "messages = [preprocess_text(message) for message in messages]"
      ],
      "metadata": {
        "id": "Z5KV1Kpwmh7y"
      },
      "execution_count": 12,
      "outputs": []
    },
    {
      "cell_type": "code",
      "source": [
        "def create_dictionary(messages):\n",
        "    dictionary = []\n",
        "\n",
        "    for tokens in messages:\n",
        "        for token in tokens:\n",
        "            if token not in dictionary:\n",
        "                dictionary.append(token)\n",
        "\n",
        "    return dictionary\n",
        "\n",
        "def create_features(tokens, dictionary):\n",
        "    features = np.zeros(len(dictionary))\n",
        "\n",
        "    for token in tokens:\n",
        "        if token in dictionary:\n",
        "            features[dictionary.index(token)] += 1\n",
        "\n",
        "    return features"
      ],
      "metadata": {
        "id": "Mm_bcltsmm98"
      },
      "execution_count": 13,
      "outputs": []
    },
    {
      "cell_type": "code",
      "source": [
        "dictionary = create_dictionary(messages)\n",
        "X = np.array([create_features(tokens, dictionary) for tokens in messages])"
      ],
      "metadata": {
        "id": "tEy3OrleoARz"
      },
      "execution_count": 14,
      "outputs": []
    },
    {
      "cell_type": "markdown",
      "source": [
        "### **4.3. Split the dataset**"
      ],
      "metadata": {
        "id": "AvzSFGPyB83P"
      }
    },
    {
      "cell_type": "code",
      "source": [
        "VAL_SIZE = 0.2\n",
        "TEST_SIZE = 0.125\n",
        "SEED = 0\n",
        "\n",
        "X_train, X_val, y_train, y_val = train_test_split(X, y,\n",
        "                                                  test_size=VAL_SIZE,\n",
        "                                                  shuffle=True,\n",
        "                                                  random_state=SEED)\n",
        "X_train, X_test, y_train, y_test = train_test_split(X_train, y_train,\n",
        "                                                    test_size=TEST_SIZE,\n",
        "                                                    shuffle=True,\n",
        "                                                    random_state=SEED)"
      ],
      "metadata": {
        "id": "QKm5qxIWhJmT"
      },
      "execution_count": 15,
      "outputs": []
    },
    {
      "cell_type": "markdown",
      "source": [
        "## **5. Train Model**"
      ],
      "metadata": {
        "id": "2FTBzozgBuIx"
      }
    },
    {
      "cell_type": "code",
      "source": [
        "%%time\n",
        "model = GaussianNB()\n",
        "print('Start training...')\n",
        "model = model.fit(X_train, y_train)\n",
        "print('Training completed!')"
      ],
      "metadata": {
        "colab": {
          "base_uri": "https://localhost:8080/"
        },
        "id": "anE-mJw5qndx",
        "outputId": "991f78a0-4f0b-40bf-cc1b-b79976c5f6ba"
      },
      "execution_count": 16,
      "outputs": [
        {
          "output_type": "stream",
          "name": "stdout",
          "text": [
            "Start training...\n",
            "Training completed!\n",
            "CPU times: user 366 ms, sys: 207 ms, total: 573 ms\n",
            "Wall time: 569 ms\n"
          ]
        }
      ]
    },
    {
      "cell_type": "markdown",
      "source": [
        "## **6. Evaluate Model**"
      ],
      "metadata": {
        "id": "ZCoOf4BrBwYI"
      }
    },
    {
      "cell_type": "code",
      "source": [
        "y_val_pred = model.predict(X_val)\n",
        "y_test_pred = model.predict(X_test)\n",
        "val_accuracy = accuracy_score(y_val, y_val_pred)\n",
        "test_accuracy = accuracy_score(y_test, y_test_pred)\n",
        "print(f'Val accuracy: {val_accuracy}')\n",
        "print(f'Test accuracy: {test_accuracy}')"
      ],
      "metadata": {
        "colab": {
          "base_uri": "https://localhost:8080/"
        },
        "id": "t9qcQ_4Pqpes",
        "outputId": "0022727a-8f08-42b6-9904-4c5a4c8343a6"
      },
      "execution_count": 21,
      "outputs": [
        {
          "output_type": "stream",
          "name": "stdout",
          "text": [
            "Val accuracy: 0.8816143497757848\n",
            "Test accuracy: 0.8602150537634409\n"
          ]
        }
      ]
    },
    {
      "cell_type": "markdown",
      "source": [
        "## **7. Make Predictions**"
      ],
      "metadata": {
        "id": "X1GS4YWRByPB"
      }
    },
    {
      "cell_type": "code",
      "source": [
        "def predict(text, model, dictionary):\n",
        "    processed_text = preprocess_text(text)\n",
        "    features = create_features(text, dictionary)\n",
        "    features = np.array(features).reshape(1, -1)\n",
        "    prediction = model.predict(features)\n",
        "    prediction_cls = le.inverse_transform(prediction)[0]\n",
        "\n",
        "    return prediction_cls"
      ],
      "metadata": {
        "id": "-BVohFfpqmJ8"
      },
      "execution_count": 17,
      "outputs": []
    },
    {
      "cell_type": "code",
      "source": [
        "test_input = 'Hello Trương Đạt, Thank you for registering for M02MC - Text Classification. You can find information about this meeting below.'\n",
        "prediction_cls = predict(test_input, model, dictionary)\n",
        "print(f'Prediction: {prediction_cls}')"
      ],
      "metadata": {
        "colab": {
          "base_uri": "https://localhost:8080/"
        },
        "id": "AaL0bg3io8a2",
        "outputId": "a7e166cc-89c5-450f-ece1-4dfac241eaa6"
      },
      "execution_count": 20,
      "outputs": [
        {
          "output_type": "stream",
          "name": "stdout",
          "text": [
            "Prediction: ham\n"
          ]
        }
      ]
    }
  ]
}